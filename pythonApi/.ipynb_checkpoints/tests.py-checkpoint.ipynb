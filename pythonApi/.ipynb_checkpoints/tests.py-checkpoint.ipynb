{
 "cells": [
  {
   "cell_type": "code",
   "execution_count": 1,
   "id": "031ba408",
   "metadata": {},
   "outputs": [],
   "source": [
    "import requests"
   ]
  },
  {
   "cell_type": "code",
   "execution_count": 51,
   "id": "018dedeb",
   "metadata": {},
   "outputs": [],
   "source": [
    "def run_test(user_id):\n",
    "    body = {\"user_id\": user_id}\n",
    "    headers = {\n",
    "        \"Content-Type\": \"application/json\",\n",
    "    }\n",
    "\n",
    "    response = requests.post(\"http://127.0.0.1:5000/generate-message\", json=body, headers=headers)\n",
    "    \n",
    "    return response"
   ]
  },
  {
   "cell_type": "code",
   "execution_count": 70,
   "id": "485236bf",
   "metadata": {},
   "outputs": [
    {
     "data": {
      "text/plain": [
       "<Response [200]>"
      ]
     },
     "execution_count": 70,
     "metadata": {},
     "output_type": "execute_result"
    }
   ],
   "source": [
    "requests.get(\"http://127.0.0.1:5000/\")"
   ]
  },
  {
   "cell_type": "code",
   "execution_count": 71,
   "id": "bc0cc74a",
   "metadata": {
    "scrolled": true
   },
   "outputs": [
    {
     "data": {
      "text/plain": [
       "{'about': 'Passionate filmmaker and founder with experience starting multiple ventures from local service businesses, to e-commerce brands.',\n",
       " 'bio': 'Student at Santa Clara University',\n",
       " 'education': [{'date_range': '2021 - 2025',\n",
       "   'degree': \"Bachelor's degreeFinance, GeneralSophomore\",\n",
       "   'details': None,\n",
       "   'name': 'Santa Clara University Leavey School of Business'},\n",
       "  {'date_range': '2021 - 2025',\n",
       "   'degree': \"Bachelor's degreeFinance, GeneralSophomore\",\n",
       "   'details': 'Activities and Societies: Tau Kappa Epsilon, Santa Clara Ski and Board, Santa Clara Strategy',\n",
       "   'name': 'Santa Clara University'},\n",
       "  {'date_range': '2017 - 2021',\n",
       "   'degree': 'NoneNone',\n",
       "   'details': None,\n",
       "   'name': 'Sharon High School'}],\n",
       " 'experience': [{'company': 'WTW Mass',\n",
       "   'date_range': 'Jun 2020 - Sep 2022',\n",
       "   'description': None,\n",
       "   'duration': '2 years 4 months',\n",
       "   'location': 'Greater Boston',\n",
       "   'role': 'Advertising Director'},\n",
       "  {'company': 'Lux Atlantic Media',\n",
       "   'date_range': 'Mar 2020 - May 2021',\n",
       "   'description': None,\n",
       "   'duration': '1 year 3 months',\n",
       "   'location': 'Boston, Massachusetts, United States',\n",
       "   'role': 'Co-Founder'}],\n",
       " 'full_name': 'Max Kaufmann',\n",
       " 'location': 'Greater Boston'}"
      ]
     },
     "execution_count": 71,
     "metadata": {},
     "output_type": "execute_result"
    }
   ],
   "source": [
    "run_test(\"max-kaufmann-63645017a\").json()"
   ]
  },
  {
   "cell_type": "code",
   "execution_count": 69,
   "id": "2d77cd13",
   "metadata": {
    "scrolled": false
   },
   "outputs": [
    {
     "name": "stdout",
     "output_type": "stream",
     "text": [
      "{'about': 'Passionate filmmaker and founder with experience starting multiple ventures from local service businesses, to e-commerce brands.', 'bio': 'Student at Santa Clara University', 'education': [{'date_range': '2021 - 2025', 'degree': \"Bachelor's degreeFinance, GeneralSophomore\", 'details': None, 'name': 'Santa Clara University Leavey School of Business'}, {'date_range': '2021 - 2025', 'degree': \"Bachelor's degreeFinance, GeneralSophomore\", 'details': 'Activities and Societies: Tau Kappa Epsilon, Santa Clara Ski and Board, Santa Clara Strategy', 'name': 'Santa Clara University'}, {'date_range': '2017 - 2021', 'degree': 'NoneNone', 'details': None, 'name': 'Sharon High School'}], 'experience': [{'company': 'WTW Mass', 'date_range': 'Jun 2020 - Sep 2022', 'description': None, 'duration': '2 years 4 months', 'location': 'Greater Boston', 'role': 'Advertising Director'}, {'company': 'Lux Atlantic Media', 'date_range': 'Mar 2020 - May 2021', 'description': None, 'duration': '1 year 3 months', 'location': 'Boston, Massachusetts, United States', 'role': 'Co-Founder'}], 'full_name': 'Max Kaufmann', 'location': 'Greater Boston'}\n",
      "\n",
      "{'about': \"Hi! I'm Mia Lora and I am a second-year student at Northeastern University. I am currently studying Business Administration with a concentration in Finance, I am also on the pre-medicine track. I am passionate about healthcare - mainly in psychiatry and mental health; I am also curious about private equity and investments within the healthcare world.\", 'bio': 'Student at Northeastern University', 'education': [{'date_range': '2021 - 2025', 'degree': \"Bachelor's degreeBusiness Administration - Finance\", 'details': 'Activities and Societies: Northeastern University Figure Skating Club, Alpha Epsilon Delta, ViTaL Club, Northeastern University Red Cross', 'name': 'Northeastern University'}, {'date_range': '2017 - 2021', 'degree': 'High School Diploma', 'details': None, 'name': 'Miami Beach Senior High School'}], 'experience': [{'company': 'Alexander Safar', 'date_range': 'Sep 2022 - Present', 'description': \"- Oversee 20 incoming calls and emails daily by addressing client inquiries; update and maintain client information records such as previous services and preferred products- Manage invoices of stylists' clients to confirm invoices are accurate; maintain records of 15+ products to track inventory and inform management of products shortage\", 'duration': '10 months', 'location': 'Boston, Massachusetts, United States', 'role': 'Receptionist'}, {'company': 'City of Miami Beach', 'date_range': 'Oct 2020 - Jan 2023', 'description': \"- Planned, organized, and conducted 5 practice sessions per week- Developed and customized off-ice conditioning program plans for 7 students'- Evaluated 7 athletes' strengths and weaknesses to improve techniques to prepare for competitions\", 'duration': '2 years 4 months', 'location': 'Miami Beach, Florida, United States', 'role': 'Figure Skating Instructor'}, {'company': \"Monty's South Beach\", 'date_range': 'Jul 2020 - Aug 2021', 'description': '- Answered phones to schedule, confirm and cancel reservations, provided information about menus and operating hours - Maintained an extensive knowledge of menus; upsold high-profit items such as appetizers and mixed drinks to enhance sales numbers- Managed 10+ tables per shift while offering customers a high level of satisfaction and detail-oriented service', 'duration': '1 year 2 months', 'location': 'Miami Beach, Florida, United States', 'role': 'Server'}], 'full_name': 'Mia Lora', 'location': 'Miami Beach, Florida, United States'}\n",
      "\n",
      "{'bio': None, 'full_name': 'Hanney A.', 'location': 'Portland, Oregon, United States'}\n",
      "\n",
      "{'bio': 'Undergraduate Student at The Wharton School', 'education': [{'date_range': '2022 - 2026', 'degree': '-', 'details': 'Undergraduate student at the Wharton School pursuing a concentration in finance.', 'name': 'University of Pennsylvania'}, {'date_range': '2018 - 2022', 'degree': '-', 'details': 'Activities and Societies: National Honor Society, DECA, Varsity Golf, Varsity Baseball, World Language National Honor Society\\n              \\n\\n\\n        Graduated Summa Cum Laude', 'name': 'Sharon High School'}, {'date_range': '2021 - 2021', 'degree': '-', 'details': \"Attended the Wharton Global Youth Program's Business Leadership Academy.\", 'name': 'Wharton Global Youth Program'}], 'experience': [{'company': 'Pension & Wealth Management Advisors', 'date_range': '2020 - Present', 'description': \"Extensively research equities alongside Mr. Frederick Sears, a former analyst for a $2 billion hedge fund and 4-star Morningstar-rated portfolio manager, for PWM’s proprietary capital trading account and PWM’s ‘Elite 10’ aggressive mutual fund.Developed the majority of the content for our University Project, which is a completely free financial education tool for anyone to utilize online and become financially literate. Using this project to study, I won the Massachusetts DECA State Championship in the Personal Financial Literacy competition, showcasing the University's true educational value.\", 'duration': '3 years', 'location': 'Waltham, Massachusetts, United States', 'role': 'Junior Analyst'}], 'full_name': 'Owen Kevorkian', 'location': 'Sharon, Massachusetts, United States'}\n",
      "\n",
      "{'bio': 'Student at The Wharton School of the University of Pennsylvania. United States Presidential Scholar. Nationally awarded singer/songwriter and composer.', 'education': [{'date_range': '2022 - 2026', 'degree': 'EconomicsManagement and FinanceFirst-year', 'details': 'Activities and Societies: Wharton Ambassadors, Counterparts A Cappella, Bloomers Comedy, Penn Records, Delta Delta Delta Sorority, Entrepreneurship, Non-profit consulting.', 'name': 'The Wharton School'}, {'date_range': '2020 - 2022', 'degree': 'High School DiplomaUnweighted GPA of 4.15/4', 'details': 'Activities and Societies: Vice President of the Drama Club, Secretary of the Arts Council, lead role in all school plays since transferring to Bronxville High School, lead bass player in Honors Band, guitarist in the Jazz Band, and leader in teaching music and movement in the Special Education Department while simultaneously creating presentations to raise awareness about disabilities and unity in the Bronxville community.', 'name': 'Bronxville High School'}, {'date_range': '2017 - 2020', 'degree': 'Drama Major', 'details': 'Activities and Societies: Acting, dancing, songwriting, stage management, Arista National Honors Society, founder of Daniel’s Music Junior Council at LaGuardia, soloist in talent show: Rising Stars. \\n              \\n\\n\\n        Fiorello H. LaGuardia High School for Music and Art and the Performing Arts is one of the most prestigious arts high schools in the USA, let alone the world. Students are selected through a rigorous audition process, and once admitted receive the opportunity to combine intensive academic studies with artistic training at the professional level. Students are in school from 8-4 daily, with rehearsals and club meetings occurring at the end of the day. Attached is a recording of Grace Gramins…\\n            \\n\\n    \\n    \\n\\n    \\n        Show more\\n\\n          \\n\\n\\n\\n          Fiorello H. LaGuardia High School for Music and Art and the Performing Arts is one of the most prestigious arts high schools in the USA, let alone the world. Students are selected through a rigorous audition process, and once admitted receive the opportunity to combine intensive academic studies with artistic training at the professional level. Students are in school from 8-4 daily, with rehearsals and club meetings occurring at the end of the day. Attached is a recording of Grace Gramins performing as one of 30 acts selected from the 200+ that auditioned in LaGuardia’s annual talent show, Rising Stars. This song that she plays and sings is one she wrote as a statement against bullying with hopes to unite her peers, and she performed it live in February of 2020 in front of audiences comprised of 1,000+ people each night. \\n            \\n\\n    \\n    \\n\\n    \\n        Show less', 'name': 'Fiorello H. LaGuardia High School'}, {'date_range': None, 'degree': 'Middle School Diploma', 'details': None, 'name': 'Convent of the Sacred Heart, 91st Street'}], 'experience': [{'company': 'Jefferies', 'date_range': 'Jun 2023 - Present', 'description': None, 'duration': '1 month', 'location': 'Norwalk, Connecticut, United States', 'role': 'Asset Management Analyst'}, {'company': 'Wharton Ambassadors', 'date_range': 'May 2023 - Present', 'description': None, 'duration': '2 months', 'location': 'Philadelphia, Pennsylvania, United States', 'role': 'VP of Ambassador Engagement'}, {'company': 'Wharton Ambassadors', 'date_range': 'Oct 2022 - Present', 'description': None, 'duration': '9 months', 'location': 'Philadelphia, Pennsylvania, United States', 'role': 'Ambassador'}, {'company': 'Penn Counterparts', 'date_range': 'Dec 2022 - Present', 'description': None, 'duration': '7 months', 'location': 'Philadelphia, Pennsylvania, United States', 'role': 'Publicity Manager'}, {'company': 'Penn Counterparts', 'date_range': 'Sep 2022 - Present', 'description': None, 'duration': '10 months', 'location': None, 'role': 'Singer'}, {'company': \"Daniel's Music Foundation\", 'date_range': 'Dec 2016 - Present', 'description': None, 'duration': '6 years 7 months', 'location': 'New York, New York, United States', 'role': 'Founder of Daniel’s Music Foundation Junior Councils'}, {'company': 'Surf Club Of Quogue Inc', 'date_range': 'Jun 2020 - Present', 'description': 'As a lifeguard, responsibilities include preparing the pool by setting up umbrellas, cleaning the pool, testing water conditions, and cleaning bathrooms before opening the pool. Once on duty, must ensure that swimmers remain safe throughout the day from 10am-6pm.', 'duration': '3 years 1 month', 'location': 'Quogue, New York, United States', 'role': 'Lifeguard'}], 'full_name': 'Grace Gramins', 'location': 'Bronxville, New York, United States'}\n",
      "\n"
     ]
    },
    {
     "name": "stdout",
     "output_type": "stream",
     "text": [
      "{'bio': 'Student at Tel-Aviv University', 'education': [{'date_range': '2020 - 2023', 'degree': \"Bachelor's degree in Psychology and Entrepreneurship & Innovation\", 'details': None, 'name': 'Tel Aviv University'}], 'experience': [{'company': 'EcoPeace Middle East', 'date_range': 'Nov 2022 - Present', 'description': None, 'duration': '8 months', 'location': 'Tel Aviv District, Israel', 'role': 'Research and Project Support Intern'}, {'company': 'Latvian Cultural Association in Israel', 'date_range': 'Oct 2022 - Present', 'description': '•Developing projects through collaboration with Latvian Ministry of International Affairs that are relevant to the Association.•Estimating budgets, scopes, identifying schedules and executing deployment of the projects.•Managing aspects of cultural event planning hosted by the Association, nurturing and building relationships with local vendors who are representing their product in Israel.', 'duration': '9 months', 'location': 'Israel', 'role': 'Board Member'}, {'company': 'SIA Bitateks', 'date_range': 'May 2020 - Aug 2020', 'description': None, 'duration': '4 months', 'location': 'Riga, Latvia', 'role': 'Warehouse Manager Assistant'}, {'company': '36. Line', 'date_range': 'Apr 2019 - Sep 2019', 'description': None, 'duration': '6 months', 'location': 'Jūrmala', 'role': 'Junior Manager & Host'}], 'full_name': 'Sonija Ashkinezer', 'location': 'Tel Aviv District, Israel'}\n",
      "\n"
     ]
    }
   ],
   "source": [
    "user_ids = [\"max-kaufmann-63645017a\", \"mia-lora-86426320a\", \"a-hanney\", \n",
    "            \"owen-kevorkian-a03146245\", \"gracegramins\", \"sonija-ashkinezer-993206186\"]\n",
    "\n",
    "for user in user_ids:\n",
    "    print(run_test(user).json())\n",
    "    print()"
   ]
  },
  {
   "cell_type": "markdown",
   "id": "0d018adb",
   "metadata": {},
   "source": [
    "curl -XPOST -H \"Content-type: application/json\" -d '{\"user_id\": \"gracegramins\"}' 'http://127.0.0.1:5000/generate-message'"
   ]
  },
  {
   "cell_type": "code",
   "execution_count": 39,
   "id": "0d0ab5fc",
   "metadata": {},
   "outputs": [],
   "source": []
  },
  {
   "cell_type": "code",
   "execution_count": null,
   "id": "15f02148",
   "metadata": {},
   "outputs": [],
   "source": []
  },
  {
   "cell_type": "code",
   "execution_count": 47,
   "id": "7a617bdc",
   "metadata": {},
   "outputs": [],
   "source": []
  },
  {
   "cell_type": "code",
   "execution_count": 48,
   "id": "c538c102",
   "metadata": {},
   "outputs": [],
   "source": []
  }
 ],
 "metadata": {
  "kernelspec": {
   "display_name": "Python [conda env:myEnv]",
   "language": "python",
   "name": "conda-env-myEnv-py"
  },
  "language_info": {
   "codemirror_mode": {
    "name": "ipython",
    "version": 3
   },
   "file_extension": ".py",
   "mimetype": "text/x-python",
   "name": "python",
   "nbconvert_exporter": "python",
   "pygments_lexer": "ipython3",
   "version": "3.9.7"
  }
 },
 "nbformat": 4,
 "nbformat_minor": 5
}
