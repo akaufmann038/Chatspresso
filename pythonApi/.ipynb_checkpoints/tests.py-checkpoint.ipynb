{
 "cells": [
  {
   "cell_type": "code",
   "execution_count": 1,
   "id": "1291e4c1",
   "metadata": {},
   "outputs": [],
   "source": [
    "import requests"
   ]
  },
  {
   "cell_type": "code",
   "execution_count": 4,
   "id": "e0c6c26a",
   "metadata": {},
   "outputs": [],
   "source": [
    "def run_test(user_id):\n",
    "    body = {\"user_id\": user_id}\n",
    "    headers = {\n",
    "        \"Content-Type\": \"application/json\",\n",
    "    }\n",
    "\n",
    "    response = requests.post(\"http://127.0.0.1:5000/generate-message\", data=data)"
   ]
  },
  {
   "cell_type": "code",
   "execution_count": null,
   "id": "3a0f287e",
   "metadata": {},
   "outputs": [],
   "source": [
    "requests.get(\"http://127.0.0.1:5000/\")"
   ]
  },
  {
   "cell_type": "code",
   "execution_count": null,
   "id": "46f38aea",
   "metadata": {},
   "outputs": [],
   "source": [
    "run_test(\"max-kaufmann-63645017a\")"
   ]
  },
  {
   "cell_type": "code",
   "execution_count": null,
   "id": "0508e703",
   "metadata": {},
   "outputs": [],
   "source": [
    "run_test(\"mia-lora-86426320a\")"
   ]
  },
  {
   "cell_type": "code",
   "execution_count": null,
   "id": "4c1ca163",
   "metadata": {},
   "outputs": [],
   "source": [
    "run_test(\"a-hanney\")"
   ]
  },
  {
   "cell_type": "code",
   "execution_count": null,
   "id": "8e276cef",
   "metadata": {},
   "outputs": [],
   "source": [
    "run_test(\"owen-kevorkian-a03146245\")"
   ]
  },
  {
   "cell_type": "code",
   "execution_count": null,
   "id": "2d28b077",
   "metadata": {},
   "outputs": [],
   "source": [
    "run_test(\"gracegramins\")"
   ]
  },
  {
   "cell_type": "code",
   "execution_count": null,
   "id": "b0fd41ae",
   "metadata": {},
   "outputs": [],
   "source": [
    "run_test(\"sonija-ashkinezer-993206186\")"
   ]
  }
 ],
 "metadata": {
  "kernelspec": {
   "display_name": "Python [conda env:myEnv]",
   "language": "python",
   "name": "conda-env-myEnv-py"
  },
  "language_info": {
   "codemirror_mode": {
    "name": "ipython",
    "version": 3
   },
   "file_extension": ".py",
   "mimetype": "text/x-python",
   "name": "python",
   "nbconvert_exporter": "python",
   "pygments_lexer": "ipython3",
   "version": "3.9.7"
  }
 },
 "nbformat": 4,
 "nbformat_minor": 5
}
