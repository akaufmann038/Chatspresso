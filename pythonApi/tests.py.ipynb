{
 "cells": [
  {
   "cell_type": "code",
   "execution_count": 1,
   "id": "c0cabb4f",
   "metadata": {},
   "outputs": [],
   "source": [
    "import requests"
   ]
  },
  {
   "cell_type": "code",
   "execution_count": 12,
   "id": "231c4f24",
   "metadata": {},
   "outputs": [],
   "source": [
    "def run_test(user_id):\n",
    "    body = {\"user_id\": user_id}\n",
    "    headers = {\n",
    "        \"Content-Type\": \"application/json\",\n",
    "    }\n",
    "\n",
    "    response = requests.post(\"http://127.0.0.1:5000/generate-message\", json=body, headers=headers)"
   ]
  },
  {
   "cell_type": "code",
   "execution_count": 44,
   "id": "60fb3225",
   "metadata": {},
   "outputs": [
    {
     "data": {
      "text/plain": [
       "<Response [200]>"
      ]
     },
     "execution_count": 44,
     "metadata": {},
     "output_type": "execute_result"
    }
   ],
   "source": [
    "requests.get(\"http://127.0.0.1:5000/\")"
   ]
  },
  {
   "cell_type": "code",
   "execution_count": 45,
   "id": "8f7e2d6e",
   "metadata": {},
   "outputs": [],
   "source": [
    "run_test(\"max-kaufmann-63645017a\")"
   ]
  },
  {
   "cell_type": "code",
   "execution_count": 49,
   "id": "59bbe771",
   "metadata": {},
   "outputs": [],
   "source": [
    "run_test(\"mia-lora-86426320a\")"
   ]
  },
  {
   "cell_type": "code",
   "execution_count": 39,
   "id": "3627c1cb",
   "metadata": {},
   "outputs": [],
   "source": [
    "run_test(\"a-hanney\")"
   ]
  },
  {
   "cell_type": "code",
   "execution_count": 46,
   "id": "2bf356f0",
   "metadata": {},
   "outputs": [],
   "source": [
    "run_test(\"owen-kevorkian-a03146245\")"
   ]
  },
  {
   "cell_type": "code",
   "execution_count": 47,
   "id": "949094bd",
   "metadata": {},
   "outputs": [],
   "source": [
    "run_test(\"gracegramins\")"
   ]
  },
  {
   "cell_type": "code",
   "execution_count": 48,
   "id": "8468c68c",
   "metadata": {},
   "outputs": [],
   "source": [
    "run_test(\"sonija-ashkinezer-993206186\")"
   ]
  }
 ],
 "metadata": {
  "kernelspec": {
   "display_name": "Python [conda env:myEnv]",
   "language": "python",
   "name": "conda-env-myEnv-py"
  },
  "language_info": {
   "codemirror_mode": {
    "name": "ipython",
    "version": 3
   },
   "file_extension": ".py",
   "mimetype": "text/x-python",
   "name": "python",
   "nbconvert_exporter": "python",
   "pygments_lexer": "ipython3",
   "version": "3.9.7"
  }
 },
 "nbformat": 4,
 "nbformat_minor": 5
}
