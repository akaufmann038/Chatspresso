{
 "cells": [
  {
   "cell_type": "code",
   "execution_count": 1,
   "id": "8d5ea8cd",
   "metadata": {},
   "outputs": [],
   "source": [
    "import requests"
   ]
  },
  {
   "cell_type": "code",
   "execution_count": 51,
   "id": "524b1cbd",
   "metadata": {},
   "outputs": [],
   "source": [
    "def run_test(user_id):\n",
    "    body = {\"user_id\": user_id}\n",
    "    headers = {\n",
    "        \"Content-Type\": \"application/json\",\n",
    "    }\n",
    "\n",
    "    response = requests.post(\"http://127.0.0.1:5000/generate-message\", json=body, headers=headers)\n",
    "    \n",
    "    return response"
   ]
  },
  {
   "cell_type": "code",
   "execution_count": 108,
   "id": "01423a14",
   "metadata": {},
   "outputs": [
    {
     "data": {
      "text/plain": [
       "<Response [200]>"
      ]
     },
     "execution_count": 108,
     "metadata": {},
     "output_type": "execute_result"
    }
   ],
   "source": [
    "requests.get(\"http://127.0.0.1:5000/\")"
   ]
  },
  {
   "cell_type": "code",
   "execution_count": 114,
   "id": "4902f3fd",
   "metadata": {
    "scrolled": true
   },
   "outputs": [
    {
     "data": {
      "text/plain": [
       "{'bio': 'Undergraduate Student at The Wharton School',\n",
       " 'education': [{'date_range': '2022 - 2026',\n",
       "   'degree': '-',\n",
       "   'details': 'Undergraduate student at the Wharton School pursuing a concentration in finance.',\n",
       "   'name': 'University of Pennsylvania'},\n",
       "  {'date_range': '2018 - 2022',\n",
       "   'degree': '-',\n",
       "   'details': 'Activities and Societies: National Honor Society, DECA, Varsity Golf, Varsity Baseball, World Language National Honor Society\\n              \\n\\n\\n        Graduated Summa Cum Laude',\n",
       "   'name': 'Sharon High School'},\n",
       "  {'date_range': '2021 - 2021',\n",
       "   'degree': '-',\n",
       "   'details': \"Attended the Wharton Global Youth Program's Business Leadership Academy.\",\n",
       "   'name': 'Wharton Global Youth Program'}],\n",
       " 'experience': [{'company': 'Pension & Wealth Management Advisors',\n",
       "   'date_range': '2020 - Present',\n",
       "   'description': \"Extensively research equities alongside Mr. Frederick Sears, a former analyst for a $2 billion hedge fund and 4-star Morningstar-rated portfolio manager, for PWM’s proprietary capital trading account and PWM’s ‘Elite 10’ aggressive mutual fund.Developed the majority of the content for our University Project, which is a completely free financial education tool for anyone to utilize online and become financially literate. Using this project to study, I won the Massachusetts DECA State Championship in the Personal Financial Literacy competition, showcasing the University's true educational value.\",\n",
       "   'duration': '3 years',\n",
       "   'location': 'Waltham, Massachusetts, United States',\n",
       "   'role': 'Junior Analyst'}],\n",
       " 'full_name': 'Owen Kevorkian',\n",
       " 'location': 'Sharon, Massachusetts, United States'}"
      ]
     },
     "execution_count": 114,
     "metadata": {},
     "output_type": "execute_result"
    }
   ],
   "source": [
    "run_test(\"owen-kevorkian-a03146245\").json()"
   ]
  },
  {
   "cell_type": "code",
   "execution_count": 115,
   "id": "93fe99a0",
   "metadata": {
    "scrolled": false
   },
   "outputs": [
    {
     "name": "stdout",
     "output_type": "stream",
     "text": [
      "\n",
      "\n",
      "\n",
      "\n",
      "\n",
      "\n"
     ]
    }
   ],
   "source": [
    "user_ids = [\"max-kaufmann-63645017a\", \"mia-lora-86426320a\", \"a-hanney\", \n",
    "            \"owen-kevorkian-a03146245\", \"gracegramins\", \"sonija-ashkinezer-993206186\"]\n",
    "\n",
    "for user in user_ids:\n",
    "    #print(run_test(user).json())\n",
    "    print()"
   ]
  },
  {
   "cell_type": "markdown",
   "id": "5ae10339",
   "metadata": {},
   "source": [
    "curl -XPOST -H \"Content-type: application/json\" -d '{\"user_id\": \"gracegramins\"}' 'http://127.0.0.1:5000/generate-message'"
   ]
  },
  {
   "cell_type": "code",
   "execution_count": 39,
   "id": "32bc0cae",
   "metadata": {},
   "outputs": [],
   "source": []
  },
  {
   "cell_type": "code",
   "execution_count": 103,
   "id": "dcfef76d",
   "metadata": {},
   "outputs": [
    {
     "data": {
      "text/plain": [
       "2"
      ]
     },
     "execution_count": 103,
     "metadata": {},
     "output_type": "execute_result"
    }
   ],
   "source": [
    "driver = [0, 1, 2, 3, 4]\n",
    "driver_info = {}\n",
    "driver_info[\"owen\"] = 1\n",
    "driver_info[\"alex\"] = 3\n",
    "driver_info[\"nick\"] = 0\n",
    "\n",
    "to_assign = None\n",
    "        \n",
    "for d_index in range(len(driver)):\n",
    "    is_in = False\n",
    "\n",
    "    for job in driver_info.keys():\n",
    "        if d_index == driver_info[job]:\n",
    "            is_in = True\n",
    "\n",
    "    if not is_in:\n",
    "        to_assign = d_index\n",
    "        break\n",
    "\n",
    "to_assign"
   ]
  },
  {
   "cell_type": "code",
   "execution_count": 47,
   "id": "69abdb97",
   "metadata": {},
   "outputs": [],
   "source": []
  },
  {
   "cell_type": "code",
   "execution_count": 48,
   "id": "631aefcb",
   "metadata": {},
   "outputs": [],
   "source": []
  }
 ],
 "metadata": {
  "kernelspec": {
   "display_name": "Python [conda env:myEnv]",
   "language": "python",
   "name": "conda-env-myEnv-py"
  },
  "language_info": {
   "codemirror_mode": {
    "name": "ipython",
    "version": 3
   },
   "file_extension": ".py",
   "mimetype": "text/x-python",
   "name": "python",
   "nbconvert_exporter": "python",
   "pygments_lexer": "ipython3",
   "version": "3.9.7"
  }
 },
 "nbformat": 4,
 "nbformat_minor": 5
}
